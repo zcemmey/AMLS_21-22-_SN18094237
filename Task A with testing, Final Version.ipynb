{
 "cells": [
  {
   "cell_type": "code",
   "execution_count": 1,
   "id": "a49d083a",
   "metadata": {},
   "outputs": [],
   "source": [
    "#importing the required packs\n",
    "import pandas as pd\n",
    "import numpy as np\n",
    "import matplotlib.pyplot as plt\n",
    "import os\n",
    "import cv2\n",
    "from sklearn import svm, datasets\n",
    "from sklearn.model_selection import train_test_split\n",
    "from sklearn.svm import SVC\n",
    "from sklearn.utils import shuffle\n",
    "from sklearn.metrics import classification_report,accuracy_score\n",
    "from imutils import paths\n"
   ]
  },
  {
   "cell_type": "code",
   "execution_count": 2,
   "id": "0a5a2985",
   "metadata": {},
   "outputs": [],
   "source": [
    "#1. IMAGE PRE-PROCESSING\n",
    "#The actions in this section will help the main SVM model to work with the images provided and preferably also reduce the\n",
    "# size/shape of the data so that the memory of the code will not exceed the limit Jupyter Notebook has. \n",
    "\n",
    "#Creating a path for the source dataset (which are the images) and storing it in a list.\n",
    "path=(r\"C:\\Users\\melek\\OneDrive\\Belgeler\\Year 4\\AMLS\\CW\\dataset\\image\")\n",
    "images_list= []\n",
    "images_paths = sorted(list(paths.list_images(path)))\n",
    "\n",
    "#One of our first tasks will be to convert the pixels of the images into an array form. \n",
    "#To do this, we must first make sure that the images provided are in grayscale.\n",
    "for path in images_paths:\n",
    "    file=cv2.imread(path)\n",
    "    images_grayscale = cv2.cvtColor(file,cv2.COLOR_BGR2GRAY)\n",
    "    images_list.append(images_grayscale)\n",
    "    \n"
   ]
  },
  {
   "cell_type": "code",
   "execution_count": 3,
   "id": "68620319",
   "metadata": {},
   "outputs": [],
   "source": [
    "#This prepares the labels so they can be processed: \n",
    "file_labels = pd.read_csv(r\"C:\\Users\\melek\\OneDrive\\Belgeler\\Year 4\\AMLS\\CW\\dataset\\label.csv\")\n",
    "Images = [images_list[x] for x in range (0,3000)]\n",
    "Labels = [0 if ('no_tumor') in (file_labels.iat[x,1]) else 1 for x in range(0,3000)]\n"
   ]
  },
  {
   "cell_type": "code",
   "execution_count": 4,
   "id": "2a63e7fc",
   "metadata": {},
   "outputs": [
    {
     "name": "stdout",
     "output_type": "stream",
     "text": [
      "(3000, 512, 512)\n"
     ]
    }
   ],
   "source": [
    "\n",
    "Images=np.array(Images)\n",
    "print(Images.shape)\n",
    "#We can notice that the array has 3 dimensions,which makes the size of the data too big to process "
   ]
  },
  {
   "cell_type": "code",
   "execution_count": 5,
   "id": "e8e33142",
   "metadata": {},
   "outputs": [
    {
     "name": "stdout",
     "output_type": "stream",
     "text": [
      "(3000, 262144)\n"
     ]
    }
   ],
   "source": [
    "Images=Images.reshape(len(Images),-1)\n",
    "print(Images.shape)\n",
    "Images, Labels = shuffle (Images, Labels)\n",
    "\n",
    "#the array now has 2 dimensions and we can continue\n"
   ]
  },
  {
   "cell_type": "code",
   "execution_count": 6,
   "id": "8e2acfe7",
   "metadata": {},
   "outputs": [],
   "source": [
    "#splitting the datasets into training (80%) and testing (20%)\n",
    "#where x stands for Images and y for Labels for the sake of clarity\n",
    "\n",
    "x_train, x_test, y_train, y_test = train_test_split(Images,Labels,train_size=0.8,random_state=1)"
   ]
  },
  {
   "cell_type": "code",
   "execution_count": 7,
   "id": "b294e6b2",
   "metadata": {},
   "outputs": [],
   "source": [
    "#2. SVM\n",
    "#where x stands for Images and y for Labels for the sake of clarity\n",
    "def SVM(x_train,y_train,x_test):\n",
    "    model=SVC(kernel='linear')\n",
    "    model.fit(x_train,y_train)\n",
    "    y_pred = model.predict(x_test)\n",
    "    return y_pred\n"
   ]
  },
  {
   "cell_type": "code",
   "execution_count": 8,
   "id": "278c19bf",
   "metadata": {},
   "outputs": [
    {
     "name": "stdout",
     "output_type": "stream",
     "text": [
      "0.9383333333333334\n"
     ]
    }
   ],
   "source": [
    "#Results:\n",
    "y_pred=SVM(x_train,y_train,x_test)\n",
    "print(accuracy_score(y_test,y_pred))"
   ]
  },
  {
   "cell_type": "code",
   "execution_count": 9,
   "id": "41d9521a",
   "metadata": {},
   "outputs": [],
   "source": [
    "#3.Testing\n",
    "\n",
    "#The actions in this section will help the main SVM model to work with the images provided and preferably also reduce the\n",
    "# size/shape of the data so that the memory of the code will not exceed the limit Jupyter Notebook has. \n",
    "\n",
    "#Creating a path for the source dataset (which are the images) and storing it in a list.\n",
    "path_test=(r\"C:\\Users\\melek\\OneDrive\\Belgeler\\Year 4\\AMLS\\CW\\test\\image\")\n",
    "images_list_test= []\n",
    "images_paths_test = sorted(list(paths.list_images(path_test)))\n",
    "\n",
    "#One of our first tasks will be to convert the pixels of the images into an array form. \n",
    "#To do this, we must first make sure that the images provided are in grayscale.\n",
    "for path_test in images_paths_test:\n",
    "    file_test=cv2.imread(path_test)\n",
    "    images_grayscale_test = cv2.cvtColor(file_test,cv2.COLOR_BGR2GRAY)\n",
    "    images_list_test.append(images_grayscale_test)\n",
    "    \n",
    "#This prepares the labels so they can be processed: \n",
    "file_labels_test = pd.read_csv(r\"C:\\Users\\melek\\OneDrive\\Belgeler\\Year 4\\AMLS\\CW\\test\\label.csv\")\n",
    "Images_test = [images_list_test[x] for x in range (0,200)]\n",
    "Labels_test = [0 if ('no_tumor') in (file_labels_test.iat[x,1]) else 1 for x in range(0,200)]\n",
    "\n",
    "\n",
    "\n",
    "    \n"
   ]
  },
  {
   "cell_type": "code",
   "execution_count": 11,
   "id": "434638e6",
   "metadata": {},
   "outputs": [
    {
     "data": {
      "text/plain": [
       "(200, 262144)"
      ]
     },
     "execution_count": 11,
     "metadata": {},
     "output_type": "execute_result"
    }
   ],
   "source": [
    "Images_test=np.array(Images_test)\n",
    "Images_test=Images_test.reshape(len(Images_test),-1)\n",
    "Images_test.shape\n",
    "\n",
    "\n"
   ]
  },
  {
   "cell_type": "code",
   "execution_count": 13,
   "id": "f2577e4a",
   "metadata": {},
   "outputs": [],
   "source": [
    "Images_test, Labels_test = shuffle (Images_test, Labels_test)"
   ]
  },
  {
   "cell_type": "code",
   "execution_count": 15,
   "id": "b44ed1d6",
   "metadata": {},
   "outputs": [
    {
     "ename": "AttributeError",
     "evalue": "'list' object has no attribute 'shape'",
     "output_type": "error",
     "traceback": [
      "\u001b[1;31m---------------------------------------------------------------------------\u001b[0m",
      "\u001b[1;31mAttributeError\u001b[0m                            Traceback (most recent call last)",
      "\u001b[1;32m~\\AppData\\Local\\Temp/ipykernel_23572/583361566.py\u001b[0m in \u001b[0;36m<module>\u001b[1;34m\u001b[0m\n\u001b[1;32m----> 1\u001b[1;33m \u001b[0mLabels_test\u001b[0m\u001b[1;33m.\u001b[0m\u001b[0mshape\u001b[0m\u001b[1;33m\u001b[0m\u001b[1;33m\u001b[0m\u001b[0m\n\u001b[0m",
      "\u001b[1;31mAttributeError\u001b[0m: 'list' object has no attribute 'shape'"
     ]
    }
   ],
   "source": []
  },
  {
   "cell_type": "code",
   "execution_count": 16,
   "id": "94fbe413",
   "metadata": {},
   "outputs": [
    {
     "name": "stdout",
     "output_type": "stream",
     "text": [
      "0.9\n"
     ]
    }
   ],
   "source": [
    "y_pred=SVM(x_train,y_train,Images_test)\n",
    "print(accuracy_score(Labels_test,y_pred))\n",
    "\n"
   ]
  },
  {
   "cell_type": "code",
   "execution_count": null,
   "id": "8da11a7b",
   "metadata": {},
   "outputs": [],
   "source": []
  }
 ],
 "metadata": {
  "kernelspec": {
   "display_name": "Python 3 (ipykernel)",
   "language": "python",
   "name": "python3"
  },
  "language_info": {
   "codemirror_mode": {
    "name": "ipython",
    "version": 3
   },
   "file_extension": ".py",
   "mimetype": "text/x-python",
   "name": "python",
   "nbconvert_exporter": "python",
   "pygments_lexer": "ipython3",
   "version": "3.8.12"
  }
 },
 "nbformat": 4,
 "nbformat_minor": 5
}
