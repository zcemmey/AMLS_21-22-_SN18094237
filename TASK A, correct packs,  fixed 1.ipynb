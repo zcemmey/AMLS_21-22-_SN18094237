{
 "cells": [
  {
   "cell_type": "code",
   "execution_count": 5,
   "id": "22fd248c",
   "metadata": {},
   "outputs": [],
   "source": [
    "#importing the required packs\n",
    "import pandas as pd\n",
    "import numpy as np\n",
    "import matplotlib.pyplot as plt\n",
    "import os\n",
    "import cv2\n",
    "from sklearn import svm, datasets\n",
    "from sklearn.model_selection import train_test_split\n",
    "from sklearn.svm import SVC\n",
    "from sklearn.utils import shuffle\n",
    "from sklearn.metrics import classification_report,accuracy_score\n",
    "from imutils import paths\n"
   ]
  },
  {
   "cell_type": "code",
   "execution_count": 9,
   "id": "4fe806a6",
   "metadata": {},
   "outputs": [],
   "source": [
    "#1. IMAGE PRE-PROCESSING\n",
    "#The actions in this section will help the main SVM model to work with the images provided and preferably also reduce the\n",
    "# size/shape of the data so that the memory of the code will not exceed the limit Jupyter Notebook has. \n",
    "\n",
    "#Creating a path for the source dataset (which are the images) and storing it in a list.\n",
    "path=(r\"C:\\Users\\melek\\OneDrive\\Belgeler\\Year 4\\AMLS\\CW\\dataset\\image\")\n",
    "images_list= []\n",
    "images_paths = sorted(list(paths.list_images(path)))\n",
    "\n",
    "#One of our first tasks will be to convert the pixels of the images into an array form. \n",
    "#To do this, we must first make sure that the images provided are in grayscale.\n",
    "for path in images_paths:\n",
    "    images_file = cv2.imread(path)\n",
    "    gray = cv2.cvtColor(images_file,cv2.COLOR_BGR2GRAY)\n",
    "    images_list.append(gray)"
   ]
  },
  {
   "cell_type": "code",
   "execution_count": 12,
   "id": "63b9f6b3",
   "metadata": {},
   "outputs": [],
   "source": [
    "#This prepares the labels so they can be processed: \n",
    "labeldata = pd.read_csv(r\"C:\\Users\\melek\\OneDrive\\Belgeler\\Year 4\\AMLS\\CW\\dataset\\label.csv\")\n",
    "X = []\n",
    "Y = []\n"
   ]
  },
  {
   "cell_type": "code",
   "execution_count": 13,
   "id": "29ac309a",
   "metadata": {},
   "outputs": [],
   "source": [
    "#The provided images are classified into a binary classification (with and without tumor)\n",
    "#Whenever there is \"no_tumor\" in the label, the image will be classified into 0, and into 1 if it is the other way around\n",
    "for i in range (0,3000):\n",
    "    X.append(images_list[i])\n",
    "    if \"no_tumor\" in (labeldata.iat[i,1]):\n",
    "        Y.append(0)\n",
    "    else:\n",
    "        Y.append(1)"
   ]
  },
  {
   "cell_type": "code",
   "execution_count": null,
   "id": "cafd40a8",
   "metadata": {},
   "outputs": [],
   "source": []
  }
 ],
 "metadata": {
  "kernelspec": {
   "display_name": "Python 3 (ipykernel)",
   "language": "python",
   "name": "python3"
  },
  "language_info": {
   "codemirror_mode": {
    "name": "ipython",
    "version": 3
   },
   "file_extension": ".py",
   "mimetype": "text/x-python",
   "name": "python",
   "nbconvert_exporter": "python",
   "pygments_lexer": "ipython3",
   "version": "3.8.12"
  }
 },
 "nbformat": 4,
 "nbformat_minor": 5
}
